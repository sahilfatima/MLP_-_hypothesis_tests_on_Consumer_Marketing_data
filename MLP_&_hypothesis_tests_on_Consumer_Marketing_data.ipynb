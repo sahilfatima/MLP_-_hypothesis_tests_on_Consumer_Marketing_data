{
  "metadata": {
    "kernelspec": {
      "language": "python",
      "display_name": "Python 3",
      "name": "python3"
    },
    "language_info": {
      "name": "python",
      "version": "3.7.12",
      "mimetype": "text/x-python",
      "codemirror_mode": {
        "name": "ipython",
        "version": 3
      },
      "pygments_lexer": "ipython3",
      "nbconvert_exporter": "python",
      "file_extension": ".py"
    },
    "kaggle": {
      "accelerator": "none",
      "dataSources": [
        {
          "sourceId": 4153125,
          "sourceType": "datasetVersion",
          "datasetId": 2452322
        }
      ],
      "dockerImageVersionId": 30407,
      "isInternetEnabled": true,
      "language": "python",
      "sourceType": "notebook",
      "isGpuEnabled": false
    },
    "colab": {
      "name": " MLP & hypothesis tests on Consumer Marketing data",
      "provenance": [],
      "include_colab_link": true
    }
  },
  "nbformat_minor": 0,
  "nbformat": 4,
  "cells": [
    {
      "cell_type": "markdown",
      "metadata": {
        "id": "view-in-github",
        "colab_type": "text"
      },
      "source": [
        "<a href=\"https://colab.research.google.com/github/sahilfatima/MLP_-_hypothesis_tests_on_Consumer_Marketing_data/blob/main/MLP_%26_hypothesis_tests_on_Consumer_Marketing_data.ipynb\" target=\"_parent\"><img src=\"https://colab.research.google.com/assets/colab-badge.svg\" alt=\"Open In Colab\"/></a>"
      ]
    },
    {
      "source": [
        "import os\n",
        "import sys\n",
        "from tempfile import NamedTemporaryFile\n",
        "from urllib.request import urlopen\n",
        "from urllib.parse import unquote, urlparse\n",
        "from urllib.error import HTTPError\n",
        "from zipfile import ZipFile\n",
        "import tarfile\n",
        "import shutil\n",
        "\n",
        "CHUNK_SIZE = 40960\n",
        "DATA_SOURCE_MAPPING = 'marketing-data:https%3A%2F%2Fstorage.googleapis.com%2Fkaggle-data-sets%2F2452322%2F4153125%2Fbundle%2Farchive.zip%3FX-Goog-Algorithm%3DGOOG4-RSA-SHA256%26X-Goog-Credential%3Dgcp-kaggle-com%2540kaggle-161607.iam.gserviceaccount.com%252F20240201%252Fauto%252Fstorage%252Fgoog4_request%26X-Goog-Date%3D20240201T162515Z%26X-Goog-Expires%3D259200%26X-Goog-SignedHeaders%3Dhost%26X-Goog-Signature%3D12542489149225927a5a3d5554c67877eedc18f69251400c5d2ff02463b9507e5ef5c048f8dce28eb6cd4e8a36c5fec7720003b8a6c727e9669be21f92a76e0f126b431239498b08524e95f1313b821cc924a01cbd44fe57e0a03ede56691321d0659fb7294bd8dc9fc6678b9568d1cb9e112dacd7f0ae92a161fb9c6c64afc1aa1ba8aaab26b4c113ade1c6d9652808d3e08a3bc37a383cf39be3fadd110a38ced18fa7301e743d2f0ee09e38cda955f478fea8b263a4c10e2295e723d8b5f1cb10d286e9c7bdbdc5ea4b5d7c3c88391976b0f7226ba45d3a929ce73cc61e8178fc50b3b5bc51b7641694290be56035410e8c14ee37c5aac81f6fc39a6292a3'\n",
        "\n",
        "KAGGLE_INPUT_PATH='/kaggle/input'\n",
        "KAGGLE_WORKING_PATH='/kaggle/working'\n",
        "KAGGLE_SYMLINK='kaggle'\n",
        "\n",
        "!umount /kaggle/input/ 2> /dev/null\n",
        "shutil.rmtree('/kaggle/input', ignore_errors=True)\n",
        "os.makedirs(KAGGLE_INPUT_PATH, 0o777, exist_ok=True)\n",
        "os.makedirs(KAGGLE_WORKING_PATH, 0o777, exist_ok=True)\n",
        "\n",
        "try:\n",
        "  os.symlink(KAGGLE_INPUT_PATH, os.path.join(\"..\", 'input'), target_is_directory=True)\n",
        "except FileExistsError:\n",
        "  pass\n",
        "try:\n",
        "  os.symlink(KAGGLE_WORKING_PATH, os.path.join(\"..\", 'working'), target_is_directory=True)\n",
        "except FileExistsError:\n",
        "  pass\n",
        "\n",
        "for data_source_mapping in DATA_SOURCE_MAPPING.split(','):\n",
        "    directory, download_url_encoded = data_source_mapping.split(':')\n",
        "    download_url = unquote(download_url_encoded)\n",
        "    filename = urlparse(download_url).path\n",
        "    destination_path = os.path.join(KAGGLE_INPUT_PATH, directory)\n",
        "    try:\n",
        "        with urlopen(download_url) as fileres, NamedTemporaryFile() as tfile:\n",
        "            total_length = fileres.headers['content-length']\n",
        "            print(f'Downloading {directory}, {total_length} bytes compressed')\n",
        "            dl = 0\n",
        "            data = fileres.read(CHUNK_SIZE)\n",
        "            while len(data) > 0:\n",
        "                dl += len(data)\n",
        "                tfile.write(data)\n",
        "                done = int(50 * dl / int(total_length))\n",
        "                sys.stdout.write(f\"\\r[{'=' * done}{' ' * (50-done)}] {dl} bytes downloaded\")\n",
        "                sys.stdout.flush()\n",
        "                data = fileres.read(CHUNK_SIZE)\n",
        "            if filename.endswith('.zip'):\n",
        "              with ZipFile(tfile) as zfile:\n",
        "                zfile.extractall(destination_path)\n",
        "            else:\n",
        "              with tarfile.open(tfile.name) as tarfile:\n",
        "                tarfile.extractall(destination_path)\n",
        "            print(f'\\nDownloaded and uncompressed: {directory}')\n",
        "    except HTTPError as e:\n",
        "        print(f'Failed to load (likely expired) {download_url} to path {destination_path}')\n",
        "        continue\n",
        "    except OSError as e:\n",
        "        print(f'Failed to load {download_url} to path {destination_path}')\n",
        "        continue\n",
        "\n",
        "print('Data source import complete.')\n"
      ],
      "metadata": {
        "id": "FJukVxHrfS72"
      },
      "cell_type": "code",
      "outputs": [],
      "execution_count": null
    },
    {
      "cell_type": "code",
      "source": [
        "# This Python 3 environment comes with many helpful analytics libraries installed\n",
        "# It is defined by the kaggle/python Docker image: https://github.com/kaggle/docker-python\n",
        "# For example, here's several helpful packages to load\n",
        "\n",
        "import numpy as np # linear algebra\n",
        "import pandas as pd # data processing, CSV file I/O (e.g. pd.read_csv)\n",
        "\n",
        "# Input data files are available in the read-only \"../input/\" directory\n",
        "# For example, running this (by clicking run or pressing Shift+Enter) will list all files under the input directory\n",
        "\n",
        "import os\n",
        "for dirname, _, filenames in os.walk('/kaggle/input'):\n",
        "    for filename in filenames:\n",
        "        print(os.path.join(dirname, filename))\n",
        "\n",
        "# You can write up to 20GB to the current directory (/kaggle/working/) that gets preserved as output when you create a version using \"Save & Run All\"\n",
        "# You can also write temporary files to /kaggle/temp/, but they won't be saved outside of the current session"
      ],
      "metadata": {
        "_uuid": "8f2839f25d086af736a60e9eeb907d3b93b6e0e5",
        "_cell_guid": "b1076dfc-b9ad-4769-8c92-a6c4dae69d19",
        "execution": {
          "iopub.status.busy": "2023-03-01T13:58:51.31802Z",
          "iopub.execute_input": "2023-03-01T13:58:51.31912Z",
          "iopub.status.idle": "2023-03-01T13:58:51.363938Z",
          "shell.execute_reply.started": "2023-03-01T13:58:51.319066Z",
          "shell.execute_reply": "2023-03-01T13:58:51.362816Z"
        },
        "jupyter": {
          "source_hidden": true
        },
        "trusted": true,
        "id": "ltBTRYDMfS73"
      },
      "execution_count": null,
      "outputs": []
    },
    {
      "cell_type": "markdown",
      "source": [
        "***The objective of the notebook is to implement statistical approaches and machine learning algorithms on a primary marketing data set. As a result, this approach goes on to explore the characteristics of this dataset and conduct different hypothesis tests on the dataset. The purpose of statistical hypothesis testing is to put the assumptions to the test and derive conclusions about\n",
        "the population. This is accomplished by evaluating a sample representative of the entire population and, depending on the results, perhaps rejecting or accepting the hypothesis. We investigated assumptions about a population parameter using a range of hypothesis tests to support or reject hypotheses (statements).\n",
        "Furthermore, the multiple linear regression model was developed to determine the association between various factors in a specified marketing dataset. Multiple linear regression is an improved variant of basic linear regression that is typically preferable for more complicated interactions that need additional considerations. To evaluate the created multiple linear\n",
        "regression model accuracy, R-squared was utilized. It is a statistical parameter that evaluates how\n",
        "close the data are to the fitted regression line.\n",
        "All hypothesis tests and MLP models were done step-by-step in the Kaggle notebook IDE with the Python programming language. Python packages such as Pandas, Plotly, and Matplotlib were used during data processing and visualization. Whereas, SciPy and Scikit have been used to test hypotheses and develop the machine-learning model.***"
      ],
      "metadata": {
        "id": "nCr5KO0ZfS73"
      }
    },
    {
      "cell_type": "code",
      "source": [
        "import pandas as pd\n",
        "import plotly\n",
        "import matplotlib\n",
        "import scipy\n",
        "import numpy as np\n",
        "import sklearn"
      ],
      "metadata": {
        "execution": {
          "iopub.status.busy": "2024-01-07T17:38:50.57286Z",
          "iopub.execute_input": "2024-01-07T17:38:50.573228Z",
          "iopub.status.idle": "2024-01-07T17:38:50.578792Z",
          "shell.execute_reply.started": "2024-01-07T17:38:50.573198Z",
          "shell.execute_reply": "2024-01-07T17:38:50.577558Z"
        },
        "trusted": true,
        "id": "zE5NvLQbfS74"
      },
      "execution_count": null,
      "outputs": []
    },
    {
      "cell_type": "code",
      "source": [
        "data= pd.read_csv(\"/kaggle/input/marketing-data/marketing_data.csv\", engine= 'python',encoding= \"ISO-8859-1\")"
      ],
      "metadata": {
        "execution": {
          "iopub.status.busy": "2024-01-07T17:38:54.808557Z",
          "iopub.execute_input": "2024-01-07T17:38:54.808928Z",
          "iopub.status.idle": "2024-01-07T17:38:54.86857Z",
          "shell.execute_reply.started": "2024-01-07T17:38:54.808898Z",
          "shell.execute_reply": "2024-01-07T17:38:54.867642Z"
        },
        "trusted": true,
        "id": "JsoqpSsKfS74"
      },
      "execution_count": null,
      "outputs": []
    },
    {
      "cell_type": "code",
      "source": [
        "data.head(5)"
      ],
      "metadata": {
        "execution": {
          "iopub.status.busy": "2024-01-07T17:39:02.601064Z",
          "iopub.execute_input": "2024-01-07T17:39:02.601441Z",
          "iopub.status.idle": "2024-01-07T17:39:02.632846Z",
          "shell.execute_reply.started": "2024-01-07T17:39:02.601409Z",
          "shell.execute_reply": "2024-01-07T17:39:02.631936Z"
        },
        "trusted": true,
        "id": "B_nViZeZfS74"
      },
      "execution_count": null,
      "outputs": []
    },
    {
      "cell_type": "code",
      "source": [
        "data.info()"
      ],
      "metadata": {
        "execution": {
          "iopub.status.busy": "2024-01-07T17:39:16.11018Z",
          "iopub.execute_input": "2024-01-07T17:39:16.110535Z",
          "iopub.status.idle": "2024-01-07T17:39:16.137292Z",
          "shell.execute_reply.started": "2024-01-07T17:39:16.110506Z",
          "shell.execute_reply": "2024-01-07T17:39:16.136262Z"
        },
        "trusted": true,
        "id": "Xs9I1J-QfS74"
      },
      "execution_count": null,
      "outputs": []
    },
    {
      "cell_type": "code",
      "source": [
        "data.rename(columns={' Income ': 'Earnings'}, inplace=True)\n",
        "data['Earnings'].fillna(0, inplace=True)  # Replacing NaN with 0 or another appropriate value\n",
        "data[\"Earnings\"] = pd.to_numeric(data[\"Earnings\"], errors='coerce')\n"
      ],
      "metadata": {
        "execution": {
          "iopub.status.busy": "2024-01-07T17:42:35.316047Z",
          "iopub.execute_input": "2024-01-07T17:42:35.31649Z",
          "iopub.status.idle": "2024-01-07T17:42:35.323487Z",
          "shell.execute_reply.started": "2024-01-07T17:42:35.316451Z",
          "shell.execute_reply": "2024-01-07T17:42:35.322658Z"
        },
        "trusted": true,
        "id": "7_7KOW-SfS74"
      },
      "execution_count": null,
      "outputs": []
    },
    {
      "cell_type": "code",
      "source": [
        "data['age']=2021-data['Year_Birth']\n",
        "data['expenditure']=data['MntWines']+data['MntFruits']+data['MntMeatProducts']+data['MntFishProducts']+data['MntSweetProducts']+data['MntGoldProds']\n",
        "data['marriage_status']=data['Marital_Status'].replace({'Divorced':'Single','Single':'Single','Married':'Couple','Together':'Couple','Absurd':'Single','Widow':'Single','YOLO':'Single', 'Alone':'Single'})\n",
        "data['childerns'] = np.where(data.Kidhome+data.Teenhome > 0, 'Yes', 'No')"
      ],
      "metadata": {
        "execution": {
          "iopub.status.busy": "2024-01-07T17:42:43.918344Z",
          "iopub.execute_input": "2024-01-07T17:42:43.918718Z",
          "iopub.status.idle": "2024-01-07T17:42:43.931107Z",
          "shell.execute_reply.started": "2024-01-07T17:42:43.918686Z",
          "shell.execute_reply": "2024-01-07T17:42:43.930173Z"
        },
        "trusted": true,
        "id": "UrhdLe5DfS74"
      },
      "execution_count": null,
      "outputs": []
    },
    {
      "cell_type": "code",
      "source": [
        "data.head(5)"
      ],
      "metadata": {
        "execution": {
          "iopub.status.busy": "2024-01-07T17:42:52.340338Z",
          "iopub.execute_input": "2024-01-07T17:42:52.340685Z",
          "iopub.status.idle": "2024-01-07T17:42:52.363298Z",
          "shell.execute_reply.started": "2024-01-07T17:42:52.340658Z",
          "shell.execute_reply": "2024-01-07T17:42:52.362024Z"
        },
        "trusted": true,
        "id": "R5J2OI4ofS75"
      },
      "execution_count": null,
      "outputs": []
    },
    {
      "cell_type": "code",
      "source": [
        "data1= data[['age','expenditure','Earnings','marriage_status','childerns','Education']]"
      ],
      "metadata": {
        "execution": {
          "iopub.status.busy": "2024-01-07T17:43:05.974242Z",
          "iopub.execute_input": "2024-01-07T17:43:05.974618Z",
          "iopub.status.idle": "2024-01-07T17:43:05.980902Z",
          "shell.execute_reply.started": "2024-01-07T17:43:05.974565Z",
          "shell.execute_reply": "2024-01-07T17:43:05.980042Z"
        },
        "trusted": true,
        "id": "iIBzVJmQfS75"
      },
      "execution_count": null,
      "outputs": []
    },
    {
      "cell_type": "code",
      "source": [
        "data1.head(5)"
      ],
      "metadata": {
        "execution": {
          "iopub.status.busy": "2024-01-07T17:43:11.302986Z",
          "iopub.execute_input": "2024-01-07T17:43:11.303342Z",
          "iopub.status.idle": "2024-01-07T17:43:11.316798Z",
          "shell.execute_reply.started": "2024-01-07T17:43:11.303311Z",
          "shell.execute_reply": "2024-01-07T17:43:11.31552Z"
        },
        "trusted": true,
        "id": "mbGgPFrDfS75"
      },
      "execution_count": null,
      "outputs": []
    },
    {
      "cell_type": "markdown",
      "source": [
        "# Statistical Summary"
      ],
      "metadata": {
        "id": "oN3S-7iNfS75"
      }
    },
    {
      "cell_type": "code",
      "source": [
        "pd.options.display.float_format = \"{:.2f}\".format\n",
        "data1.describe()"
      ],
      "metadata": {
        "execution": {
          "iopub.status.busy": "2024-01-07T17:43:21.819646Z",
          "iopub.execute_input": "2024-01-07T17:43:21.820012Z",
          "iopub.status.idle": "2024-01-07T17:43:21.84337Z",
          "shell.execute_reply.started": "2024-01-07T17:43:21.819985Z",
          "shell.execute_reply": "2024-01-07T17:43:21.842313Z"
        },
        "trusted": true,
        "id": "dYgRWpz5fS75"
      },
      "execution_count": null,
      "outputs": []
    },
    {
      "cell_type": "markdown",
      "source": [
        "# Handling Outliers"
      ],
      "metadata": {
        "id": "baAYr3tgfS75"
      }
    },
    {
      "cell_type": "code",
      "source": [
        "import plotly.graph_objs as go\n",
        "import plotly.express as px"
      ],
      "metadata": {
        "execution": {
          "iopub.status.busy": "2024-01-07T17:43:28.187743Z",
          "iopub.execute_input": "2024-01-07T17:43:28.188118Z",
          "iopub.status.idle": "2024-01-07T17:43:30.002687Z",
          "shell.execute_reply.started": "2024-01-07T17:43:28.188086Z",
          "shell.execute_reply": "2024-01-07T17:43:30.001382Z"
        },
        "trusted": true,
        "id": "jXBOcgaNfS75"
      },
      "execution_count": null,
      "outputs": []
    },
    {
      "cell_type": "code",
      "source": [
        "import plotly.express as px\n",
        "\n",
        "df = px.data.tips()\n",
        "fig = px.violin(data1, y=\"Earnings\", color=\"marriage_status\",\n",
        "                violinmode='overlay',\n",
        "                hover_data=data1.columns)\n",
        "fig.show()"
      ],
      "metadata": {
        "execution": {
          "iopub.status.busy": "2024-01-07T17:43:34.47592Z",
          "iopub.execute_input": "2024-01-07T17:43:34.476479Z",
          "iopub.status.idle": "2024-01-07T17:43:35.811347Z",
          "shell.execute_reply.started": "2024-01-07T17:43:34.476448Z",
          "shell.execute_reply": "2024-01-07T17:43:35.81019Z"
        },
        "trusted": true,
        "id": "ex_P32ByfS75"
      },
      "execution_count": null,
      "outputs": []
    },
    {
      "cell_type": "code",
      "source": [
        "df = px.data.tips()\n",
        "fig = px.violin(data1, y=\"expenditure\", x=\"childerns\", color=\"marriage_status\", box=True, points=\"all\",\n",
        "          hover_data=data1.columns)\n",
        "fig.show()"
      ],
      "metadata": {
        "execution": {
          "iopub.status.busy": "2024-01-07T17:43:56.684522Z",
          "iopub.execute_input": "2024-01-07T17:43:56.685434Z",
          "iopub.status.idle": "2024-01-07T17:43:56.790153Z",
          "shell.execute_reply.started": "2024-01-07T17:43:56.685396Z",
          "shell.execute_reply": "2024-01-07T17:43:56.789208Z"
        },
        "trusted": true,
        "id": "sxGkhg3IfS75"
      },
      "execution_count": null,
      "outputs": []
    },
    {
      "cell_type": "code",
      "source": [
        "df = px.data.tips()\n",
        "fig = px.strip(data1, x='Earnings', y='Education')\n",
        "fig.show()"
      ],
      "metadata": {
        "execution": {
          "iopub.status.busy": "2024-01-07T17:44:22.038Z",
          "iopub.execute_input": "2024-01-07T17:44:22.038439Z",
          "iopub.status.idle": "2024-01-07T17:44:22.137545Z",
          "shell.execute_reply.started": "2024-01-07T17:44:22.038402Z",
          "shell.execute_reply": "2024-01-07T17:44:22.136658Z"
        },
        "trusted": true,
        "id": "Pc92V4ikfS75"
      },
      "execution_count": null,
      "outputs": []
    },
    {
      "cell_type": "code",
      "source": [
        "df = px.data.tips()\n",
        "fig = px.strip(data1, x='age', y='marriage_status')\n",
        "fig.show()"
      ],
      "metadata": {
        "execution": {
          "iopub.status.busy": "2024-01-07T17:44:26.997544Z",
          "iopub.execute_input": "2024-01-07T17:44:26.998144Z",
          "iopub.status.idle": "2024-01-07T17:44:27.056395Z",
          "shell.execute_reply.started": "2024-01-07T17:44:26.998109Z",
          "shell.execute_reply": "2024-01-07T17:44:27.055441Z"
        },
        "trusted": true,
        "id": "Cc59NkIvfS75"
      },
      "execution_count": null,
      "outputs": []
    },
    {
      "cell_type": "code",
      "source": [
        "fig = go.Figure(data=go.Violin(y=data1['Earnings'], box_visible=True, line_color='black',\n",
        "                               meanline_visible=True, fillcolor='lightseagreen', opacity=0.6,\n",
        "                               x0='Total Earnings'))\n",
        "\n",
        "fig.update_layout(yaxis_zeroline=False)\n",
        "fig.show()"
      ],
      "metadata": {
        "execution": {
          "iopub.status.busy": "2024-01-07T17:44:34.133044Z",
          "iopub.execute_input": "2024-01-07T17:44:34.1334Z",
          "iopub.status.idle": "2024-01-07T17:44:34.161185Z",
          "shell.execute_reply.started": "2024-01-07T17:44:34.133369Z",
          "shell.execute_reply": "2024-01-07T17:44:34.160178Z"
        },
        "trusted": true,
        "id": "jZtmQmilfS75"
      },
      "execution_count": null,
      "outputs": []
    },
    {
      "cell_type": "code",
      "source": [
        "data1=data1[data1['Earnings']<600000].reset_index(drop=True)"
      ],
      "metadata": {
        "execution": {
          "iopub.status.busy": "2024-01-07T17:44:39.116443Z",
          "iopub.execute_input": "2024-01-07T17:44:39.11679Z",
          "iopub.status.idle": "2024-01-07T17:44:39.122826Z",
          "shell.execute_reply.started": "2024-01-07T17:44:39.116763Z",
          "shell.execute_reply": "2024-01-07T17:44:39.121723Z"
        },
        "trusted": true,
        "id": "Y16lOfBmfS75"
      },
      "execution_count": null,
      "outputs": []
    },
    {
      "cell_type": "code",
      "source": [
        "fig = go.Figure(data=go.Violin(y=data1['Earnings'], box_visible=True, line_color='black',\n",
        "                               meanline_visible=True, fillcolor='lightseagreen', opacity=0.6,\n",
        "                               x0='Total Earnings'))\n",
        "\n",
        "fig.update_layout(yaxis_zeroline=False)\n",
        "fig.show()"
      ],
      "metadata": {
        "execution": {
          "iopub.status.busy": "2024-01-07T17:44:45.09457Z",
          "iopub.execute_input": "2024-01-07T17:44:45.094987Z",
          "iopub.status.idle": "2024-01-07T17:44:45.108974Z",
          "shell.execute_reply.started": "2024-01-07T17:44:45.094934Z",
          "shell.execute_reply": "2024-01-07T17:44:45.107668Z"
        },
        "trusted": true,
        "id": "OgIsaDi7fS75"
      },
      "execution_count": null,
      "outputs": []
    },
    {
      "cell_type": "code",
      "source": [
        "data1[\"Earnings\"] = data1[\"Earnings\"].astype(int)"
      ],
      "metadata": {
        "execution": {
          "iopub.status.busy": "2024-01-07T17:44:53.248094Z",
          "iopub.execute_input": "2024-01-07T17:44:53.248443Z",
          "iopub.status.idle": "2024-01-07T17:44:53.254136Z",
          "shell.execute_reply.started": "2024-01-07T17:44:53.248406Z",
          "shell.execute_reply": "2024-01-07T17:44:53.253016Z"
        },
        "trusted": true,
        "id": "4OZYvSv-fS76"
      },
      "execution_count": null,
      "outputs": []
    },
    {
      "cell_type": "markdown",
      "source": [
        "# Checking Null Values"
      ],
      "metadata": {
        "id": "q-Im4gzOfS76"
      }
    },
    {
      "cell_type": "code",
      "source": [
        "data1.isnull().sum()"
      ],
      "metadata": {
        "execution": {
          "iopub.status.busy": "2024-01-07T17:44:57.792378Z",
          "iopub.execute_input": "2024-01-07T17:44:57.792749Z",
          "iopub.status.idle": "2024-01-07T17:44:57.802155Z",
          "shell.execute_reply.started": "2024-01-07T17:44:57.792719Z",
          "shell.execute_reply": "2024-01-07T17:44:57.801171Z"
        },
        "trusted": true,
        "id": "5WOO1O8sfS76"
      },
      "execution_count": null,
      "outputs": []
    },
    {
      "cell_type": "code",
      "source": [
        "data1.dropna(inplace=True)"
      ],
      "metadata": {
        "execution": {
          "iopub.status.busy": "2024-01-07T17:45:01.654856Z",
          "iopub.execute_input": "2024-01-07T17:45:01.655252Z",
          "iopub.status.idle": "2024-01-07T17:45:01.662428Z",
          "shell.execute_reply.started": "2024-01-07T17:45:01.655221Z",
          "shell.execute_reply": "2024-01-07T17:45:01.661645Z"
        },
        "trusted": true,
        "id": "-4xSMi2jfS76"
      },
      "execution_count": null,
      "outputs": []
    },
    {
      "cell_type": "code",
      "source": [
        "data1.info()"
      ],
      "metadata": {
        "execution": {
          "iopub.status.busy": "2024-01-07T17:45:06.181143Z",
          "iopub.execute_input": "2024-01-07T17:45:06.181461Z",
          "iopub.status.idle": "2024-01-07T17:45:06.193557Z",
          "shell.execute_reply.started": "2024-01-07T17:45:06.181429Z",
          "shell.execute_reply": "2024-01-07T17:45:06.192361Z"
        },
        "trusted": true,
        "id": "5Wn2WTSafS76"
      },
      "execution_count": null,
      "outputs": []
    },
    {
      "cell_type": "markdown",
      "source": [
        "# EDA"
      ],
      "metadata": {
        "id": "3RZedwjofS76"
      }
    },
    {
      "cell_type": "code",
      "source": [
        "q=data1.groupby(['marriage_status']).size().reset_index(name='counts')\n",
        "piechart=px.pie(q,values='counts', names='marriage_status', title='Marital Ratio')\n",
        "piechart.show()"
      ],
      "metadata": {
        "execution": {
          "iopub.status.busy": "2024-01-07T17:45:11.464017Z",
          "iopub.execute_input": "2024-01-07T17:45:11.465244Z",
          "iopub.status.idle": "2024-01-07T17:45:11.525403Z",
          "shell.execute_reply.started": "2024-01-07T17:45:11.465178Z",
          "shell.execute_reply": "2024-01-07T17:45:11.524042Z"
        },
        "trusted": true,
        "id": "U6SlBw5pfS76"
      },
      "execution_count": null,
      "outputs": []
    },
    {
      "cell_type": "code",
      "source": [
        "q=data1.groupby(['Education']).size().reset_index(name='counts')\n",
        "piechart=px.pie(q,values='counts', names='Education', title='Education Ratio')\n",
        "piechart.show()"
      ],
      "metadata": {
        "execution": {
          "iopub.status.busy": "2024-01-07T17:45:17.743919Z",
          "iopub.execute_input": "2024-01-07T17:45:17.74427Z",
          "iopub.status.idle": "2024-01-07T17:45:17.78836Z",
          "shell.execute_reply.started": "2024-01-07T17:45:17.744238Z",
          "shell.execute_reply": "2024-01-07T17:45:17.787387Z"
        },
        "trusted": true,
        "id": "iTnO8TmSfS76"
      },
      "execution_count": null,
      "outputs": []
    },
    {
      "cell_type": "code",
      "source": [
        "data2=data1[['age','expenditure','Earnings','marriage_status','childerns','Education']]"
      ],
      "metadata": {
        "execution": {
          "iopub.status.busy": "2024-01-07T17:45:22.754077Z",
          "iopub.execute_input": "2024-01-07T17:45:22.754441Z",
          "iopub.status.idle": "2024-01-07T17:45:22.762422Z",
          "shell.execute_reply.started": "2024-01-07T17:45:22.754409Z",
          "shell.execute_reply": "2024-01-07T17:45:22.761425Z"
        },
        "trusted": true,
        "id": "IlUjdGXkfS76"
      },
      "execution_count": null,
      "outputs": []
    },
    {
      "cell_type": "code",
      "source": [
        "data1['Education']=data1['Education'].replace({'Basic':5,'2n Cycle':10,'Graduation':15,'Master':20,'PhD':25})"
      ],
      "metadata": {
        "execution": {
          "iopub.status.busy": "2024-01-07T17:45:26.165088Z",
          "iopub.execute_input": "2024-01-07T17:45:26.165666Z",
          "iopub.status.idle": "2024-01-07T17:45:26.174733Z",
          "shell.execute_reply.started": "2024-01-07T17:45:26.165618Z",
          "shell.execute_reply": "2024-01-07T17:45:26.173794Z"
        },
        "trusted": true,
        "id": "jReT3qXNfS76"
      },
      "execution_count": null,
      "outputs": []
    },
    {
      "cell_type": "code",
      "source": [
        "data1['marriage_status']=data1['marriage_status'].replace({'Couple':2,'Single':1})"
      ],
      "metadata": {
        "execution": {
          "iopub.status.busy": "2024-01-07T17:45:30.79832Z",
          "iopub.execute_input": "2024-01-07T17:45:30.798637Z",
          "iopub.status.idle": "2024-01-07T17:45:30.80485Z",
          "shell.execute_reply.started": "2024-01-07T17:45:30.79861Z",
          "shell.execute_reply": "2024-01-07T17:45:30.804021Z"
        },
        "trusted": true,
        "id": "8M_OJ_1YfS76"
      },
      "execution_count": null,
      "outputs": []
    },
    {
      "cell_type": "code",
      "source": [
        "data1['childerns']=data1['childerns'].replace({'Yes':2,'No':1})"
      ],
      "metadata": {
        "execution": {
          "iopub.status.busy": "2024-01-07T17:45:33.956391Z",
          "iopub.execute_input": "2024-01-07T17:45:33.956746Z",
          "iopub.status.idle": "2024-01-07T17:45:33.96516Z",
          "shell.execute_reply.started": "2024-01-07T17:45:33.956716Z",
          "shell.execute_reply": "2024-01-07T17:45:33.963492Z"
        },
        "trusted": true,
        "id": "_dG6wb7ifS76"
      },
      "execution_count": null,
      "outputs": []
    },
    {
      "cell_type": "code",
      "source": [
        "data1.head()"
      ],
      "metadata": {
        "execution": {
          "iopub.status.busy": "2024-01-07T17:45:37.114722Z",
          "iopub.execute_input": "2024-01-07T17:45:37.115086Z",
          "iopub.status.idle": "2024-01-07T17:45:37.125981Z",
          "shell.execute_reply.started": "2024-01-07T17:45:37.115054Z",
          "shell.execute_reply": "2024-01-07T17:45:37.125247Z"
        },
        "trusted": true,
        "id": "bqMfokM4fS76"
      },
      "execution_count": null,
      "outputs": []
    },
    {
      "cell_type": "markdown",
      "source": [
        "# Test For Normality (D'Agostino's K2 test)"
      ],
      "metadata": {
        "id": "NJQFBRTjfS76"
      }
    },
    {
      "cell_type": "code",
      "source": [
        "from scipy.stats import normaltest\n",
        "a=data1[['Education']]\n",
        "b=data1[['age']]\n",
        "c=data1[['expenditure']]\n",
        "d=data1[['marriage_status']]\n",
        "e=data1[['childerns']]\n",
        "f=data1[['Earnings']]\n",
        "stat, p = normaltest(a)\n",
        "print('Statistics=%.3f, p=%.3f' % (stat, p))\n",
        "alpha = 0.05\n",
        "if p > alpha:\n",
        "    print('Eduacation: Sample looks Gaussian (fail to reject H0)')\n",
        "else:\n",
        "    print('Eduaction:  Sample does not look Gaussian (reject H0)')\n",
        "\n",
        "\n",
        "stat, p = normaltest(b)\n",
        "print('Statistics=%.3f, p=%.3f' % (stat, p))\n",
        "alpha = 0.05\n",
        "if p > alpha:\n",
        "    print('age: Sample looks Gaussian (fail to reject H0)')\n",
        "else:\n",
        "    print('age: Sample does not look Gaussian (reject H0)')\n",
        "\n",
        "stat, p = normaltest(c)\n",
        "print('Statistics=%.3f, p=%.3f' % (stat, p))\n",
        "alpha = 0.05\n",
        "if p > alpha:\n",
        "    print('expenditure: Sample looks Gaussian (fail to reject H0)')\n",
        "else:\n",
        "    print('expenditure: Sample does not look Gaussian (reject H0)')\n",
        "\n",
        "stat, p = normaltest(d)\n",
        "print('Statistics=%.3f, p=%.3f' % (stat, p))\n",
        "alpha = 0.05\n",
        "if p > alpha:\n",
        "    print('marriage status: Sample looks Gaussian (fail to reject H0)')\n",
        "else:\n",
        "    print('marriage status: Sample does not look Gaussian (reject H0)')\n",
        "\n",
        "stat, p = normaltest(e)\n",
        "print('Statistics=%.3f, p=%.3f' % (stat, p))\n",
        "alpha = 0.05\n",
        "if p > alpha:\n",
        "    print('childerns: Sample looks Gaussian (fail to reject H0)')\n",
        "else:\n",
        "    print('childerns: Sample does not look Gaussian (reject H0)')\n",
        "\n",
        "\n",
        "stat, p = normaltest(f)\n",
        "print('Statistics=%.3f, p=%.3f' % (stat, p))\n",
        "alpha = 0.05\n",
        "if p > alpha:\n",
        "    print('earnings: Sample looks Gaussian (fail to reject H0)')\n",
        "else:\n",
        "    print('earnings: Sample does not look Gaussian (reject H0)')"
      ],
      "metadata": {
        "execution": {
          "iopub.status.busy": "2024-01-07T17:45:44.018423Z",
          "iopub.execute_input": "2024-01-07T17:45:44.019042Z",
          "iopub.status.idle": "2024-01-07T17:45:44.041578Z",
          "shell.execute_reply.started": "2024-01-07T17:45:44.019006Z",
          "shell.execute_reply": "2024-01-07T17:45:44.040428Z"
        },
        "trusted": true,
        "id": "T2q0nKtAfS76"
      },
      "execution_count": null,
      "outputs": []
    },
    {
      "cell_type": "code",
      "source": [
        "from scipy import stats\n",
        "from numpy import median\n",
        "from numpy import std"
      ],
      "metadata": {
        "execution": {
          "iopub.status.busy": "2024-01-07T17:45:57.497945Z",
          "iopub.execute_input": "2024-01-07T17:45:57.498299Z",
          "iopub.status.idle": "2024-01-07T17:45:57.502861Z",
          "shell.execute_reply.started": "2024-01-07T17:45:57.498269Z",
          "shell.execute_reply": "2024-01-07T17:45:57.501859Z"
        },
        "trusted": true,
        "id": "PL1W_zQJfS76"
      },
      "execution_count": null,
      "outputs": []
    },
    {
      "cell_type": "markdown",
      "source": [
        "# Mann-Whitney's Test"
      ],
      "metadata": {
        "id": "YQyxuIARfS7-"
      }
    },
    {
      "cell_type": "code",
      "source": [
        "Diploma=data2[['Education','Earnings']]\n",
        "Phd_degree=Diploma[Diploma['Education']=='PhD']\n",
        "Master_degree=Diploma[Diploma['Education']=='Master']\n",
        "Basic_degree=Diploma[Diploma['Education']=='Basic']\n",
        "Second_degree=Diploma[Diploma['Education']=='2n Cycle']\n",
        "Graduation_degree=Diploma[Diploma['Education']=='Graduation']"
      ],
      "metadata": {
        "execution": {
          "iopub.status.busy": "2024-01-07T17:46:04.089278Z",
          "iopub.execute_input": "2024-01-07T17:46:04.089626Z",
          "iopub.status.idle": "2024-01-07T17:46:04.099282Z",
          "shell.execute_reply.started": "2024-01-07T17:46:04.089571Z",
          "shell.execute_reply": "2024-01-07T17:46:04.098347Z"
        },
        "trusted": true,
        "id": "C4caW_b1fS7-"
      },
      "execution_count": null,
      "outputs": []
    },
    {
      "cell_type": "code",
      "source": [
        "Diploma.head(5)"
      ],
      "metadata": {
        "execution": {
          "iopub.status.busy": "2024-01-07T17:46:10.455667Z",
          "iopub.execute_input": "2024-01-07T17:46:10.45604Z",
          "iopub.status.idle": "2024-01-07T17:46:10.465653Z",
          "shell.execute_reply.started": "2024-01-07T17:46:10.456008Z",
          "shell.execute_reply": "2024-01-07T17:46:10.464663Z"
        },
        "trusted": true,
        "id": "0Ep5vw7IfS7-"
      },
      "execution_count": null,
      "outputs": []
    },
    {
      "cell_type": "code",
      "source": [
        "from scipy.stats import shapiro\n",
        "from scipy.stats import normaltest"
      ],
      "metadata": {
        "execution": {
          "iopub.status.busy": "2024-01-07T17:46:15.515727Z",
          "iopub.execute_input": "2024-01-07T17:46:15.51684Z",
          "iopub.status.idle": "2024-01-07T17:46:15.521504Z",
          "shell.execute_reply.started": "2024-01-07T17:46:15.516794Z",
          "shell.execute_reply": "2024-01-07T17:46:15.520437Z"
        },
        "trusted": true,
        "id": "_fSbFZlTfS7_"
      },
      "execution_count": null,
      "outputs": []
    },
    {
      "cell_type": "code",
      "source": [
        "print('PhD_degree median = %.0f stdv = %.1f' % (median(Phd_degree.Earnings), std(Phd_degree.Earnings)))\n",
        "print('Master_degree median = %.0f stdv = %.1f' % (median(Master_degree.Earnings), std(Master_degree.Earnings)))\n",
        "\n",
        "print(stats.mannwhitneyu(Phd_degree.Earnings, Master_degree.Earnings))\n",
        "\n",
        "if p > alpha:\n",
        "    print('We fail to reject H0 since the eanrings of PhD and master owners are not statistically different')\n",
        "else:\n",
        "    print('We reject H0 since the eanrings of PhD and master owners are statistically different')"
      ],
      "metadata": {
        "execution": {
          "iopub.status.busy": "2024-01-07T17:46:19.099106Z",
          "iopub.execute_input": "2024-01-07T17:46:19.099414Z",
          "iopub.status.idle": "2024-01-07T17:46:19.11013Z",
          "shell.execute_reply.started": "2024-01-07T17:46:19.099389Z",
          "shell.execute_reply": "2024-01-07T17:46:19.109097Z"
        },
        "trusted": true,
        "id": "VuvxzvVxfS7_"
      },
      "execution_count": null,
      "outputs": []
    },
    {
      "cell_type": "markdown",
      "source": [
        "# Spearman Correlation Test"
      ],
      "metadata": {
        "id": "hzlFNSUCfS7_"
      }
    },
    {
      "cell_type": "code",
      "source": [
        "expenditure=data1[['expenditure','Earnings']]\n",
        "cor, pval = stats.spearmanr(expenditure[['expenditure']], expenditure[['Earnings']])\n",
        "print(\"The orrelation coefficient of Non-Parametric Spearman correlation test : %.4f, \\np-value: %.4f\" % (cor, pval))"
      ],
      "metadata": {
        "execution": {
          "iopub.status.busy": "2024-01-07T17:46:41.930335Z",
          "iopub.execute_input": "2024-01-07T17:46:41.931605Z",
          "iopub.status.idle": "2024-01-07T17:46:41.942321Z",
          "shell.execute_reply.started": "2024-01-07T17:46:41.931533Z",
          "shell.execute_reply": "2024-01-07T17:46:41.941297Z"
        },
        "trusted": true,
        "id": "Dw4y3Qw5fS7_"
      },
      "execution_count": null,
      "outputs": []
    },
    {
      "cell_type": "markdown",
      "source": [
        "# Chi-Sqaured Test"
      ],
      "metadata": {
        "id": "X7xdylLnfS7_"
      }
    },
    {
      "cell_type": "code",
      "source": [
        "from scipy.stats import chi2_contingency\n",
        "from scipy.stats import chi2"
      ],
      "metadata": {
        "execution": {
          "iopub.status.busy": "2024-01-07T17:46:46.994372Z",
          "iopub.execute_input": "2024-01-07T17:46:46.994754Z",
          "iopub.status.idle": "2024-01-07T17:46:46.99885Z",
          "shell.execute_reply.started": "2024-01-07T17:46:46.994722Z",
          "shell.execute_reply": "2024-01-07T17:46:46.998011Z"
        },
        "trusted": true,
        "id": "q8g5DTfsfS7_"
      },
      "execution_count": null,
      "outputs": []
    },
    {
      "cell_type": "code",
      "source": [
        "Marital_Situation=data2[['Education','marriage_status']]\n",
        "crosstab = pd.crosstab(Marital_Situation[\"Education\"], Marital_Situation[\"marriage_status\"])\n",
        "crosstab"
      ],
      "metadata": {
        "execution": {
          "iopub.status.busy": "2024-01-07T17:46:49.917722Z",
          "iopub.execute_input": "2024-01-07T17:46:49.918113Z",
          "iopub.status.idle": "2024-01-07T17:46:49.943782Z",
          "shell.execute_reply.started": "2024-01-07T17:46:49.918077Z",
          "shell.execute_reply": "2024-01-07T17:46:49.942675Z"
        },
        "trusted": true,
        "id": "lMe7n38hfS7_"
      },
      "execution_count": null,
      "outputs": []
    },
    {
      "cell_type": "markdown",
      "source": [
        "# Degree Of Freedom"
      ],
      "metadata": {
        "id": "hgmQ-Om9fS7_"
      }
    },
    {
      "cell_type": "code",
      "source": [
        "stat, p, dof, expected = chi2_contingency(crosstab)\n",
        "print('Degree of freedom for chi squared test = %d' % dof)"
      ],
      "metadata": {
        "execution": {
          "iopub.status.busy": "2024-01-07T17:46:55.313806Z",
          "iopub.execute_input": "2024-01-07T17:46:55.31416Z",
          "iopub.status.idle": "2024-01-07T17:46:55.319162Z",
          "shell.execute_reply.started": "2024-01-07T17:46:55.314131Z",
          "shell.execute_reply": "2024-01-07T17:46:55.318438Z"
        },
        "trusted": true,
        "id": "cN94tn5hfS7_"
      },
      "execution_count": null,
      "outputs": []
    },
    {
      "cell_type": "markdown",
      "source": [
        "# Expected Frequancy"
      ],
      "metadata": {
        "id": "q92eKfFMfS7_"
      }
    },
    {
      "cell_type": "code",
      "source": [
        "print(expected)"
      ],
      "metadata": {
        "execution": {
          "iopub.status.busy": "2024-01-07T17:46:58.54667Z",
          "iopub.execute_input": "2024-01-07T17:46:58.547475Z",
          "iopub.status.idle": "2024-01-07T17:46:58.552497Z",
          "shell.execute_reply.started": "2024-01-07T17:46:58.547439Z",
          "shell.execute_reply": "2024-01-07T17:46:58.551506Z"
        },
        "trusted": true,
        "id": "-qTwzDfMfS7_"
      },
      "execution_count": null,
      "outputs": []
    },
    {
      "cell_type": "markdown",
      "source": [
        "# P-Value"
      ],
      "metadata": {
        "id": "cJkdLhi6fS7_"
      }
    },
    {
      "cell_type": "code",
      "source": [
        "prob = 0.95\n",
        "critical = chi2.ppf(prob, dof)\n",
        "print('probability=%.3f, critical=%.3f, stat=%.3f' % (prob, critical, stat))"
      ],
      "metadata": {
        "execution": {
          "iopub.status.busy": "2024-01-07T17:47:02.267804Z",
          "iopub.execute_input": "2024-01-07T17:47:02.268147Z",
          "iopub.status.idle": "2024-01-07T17:47:02.274473Z",
          "shell.execute_reply.started": "2024-01-07T17:47:02.268119Z",
          "shell.execute_reply": "2024-01-07T17:47:02.273098Z"
        },
        "trusted": true,
        "id": "3utZ2MeqfS7_"
      },
      "execution_count": null,
      "outputs": []
    },
    {
      "cell_type": "markdown",
      "source": [
        "# Independence"
      ],
      "metadata": {
        "id": "6rZrW8ZwfS7_"
      }
    },
    {
      "cell_type": "code",
      "source": [
        "if abs(stat) >= critical:\n",
        "\tprint('We reject H0, the variables are dependent')\n",
        "else:\n",
        "\tprint('We fail to reject H0, the variables are independent')\n",
        "alpha = 1.0 - prob\n",
        "print('significance=%.3f, p=%.3f' % (alpha, p))\n",
        "if p <= alpha:\n",
        "\tprint('We reject H0, the variables are dependent')\n",
        "else:\n",
        "\tprint('We fail to reject H0, the variables are independent')"
      ],
      "metadata": {
        "execution": {
          "iopub.status.busy": "2024-01-07T17:47:06.038673Z",
          "iopub.execute_input": "2024-01-07T17:47:06.039036Z",
          "iopub.status.idle": "2024-01-07T17:47:06.045803Z",
          "shell.execute_reply.started": "2024-01-07T17:47:06.039005Z",
          "shell.execute_reply": "2024-01-07T17:47:06.044326Z"
        },
        "trusted": true,
        "id": "pEDifZmofS7_"
      },
      "execution_count": null,
      "outputs": []
    },
    {
      "cell_type": "markdown",
      "source": [
        "# Multiple Linear Regression"
      ],
      "metadata": {
        "id": "Ya1Z6s_xfS7_"
      }
    },
    {
      "cell_type": "code",
      "source": [
        "data2.info()"
      ],
      "metadata": {
        "execution": {
          "iopub.status.busy": "2024-01-07T17:47:10.433147Z",
          "iopub.execute_input": "2024-01-07T17:47:10.433505Z",
          "iopub.status.idle": "2024-01-07T17:47:10.447613Z",
          "shell.execute_reply.started": "2024-01-07T17:47:10.433471Z",
          "shell.execute_reply": "2024-01-07T17:47:10.446337Z"
        },
        "trusted": true,
        "id": "VqAnam7ZfS8A"
      },
      "execution_count": null,
      "outputs": []
    },
    {
      "cell_type": "markdown",
      "source": [
        "# Checking Correlations"
      ],
      "metadata": {
        "id": "u5C9Qgr0fS8A"
      }
    },
    {
      "cell_type": "code",
      "source": [
        "data2.corr()"
      ],
      "metadata": {
        "execution": {
          "iopub.status.busy": "2024-01-07T17:47:17.750272Z",
          "iopub.execute_input": "2024-01-07T17:47:17.750653Z",
          "iopub.status.idle": "2024-01-07T17:47:17.76177Z",
          "shell.execute_reply.started": "2024-01-07T17:47:17.75062Z",
          "shell.execute_reply": "2024-01-07T17:47:17.760563Z"
        },
        "trusted": true,
        "id": "ZCqBWS_9fS8A"
      },
      "execution_count": null,
      "outputs": []
    },
    {
      "cell_type": "code",
      "source": [
        "X=data2[['age','expenditure','Education']]"
      ],
      "metadata": {
        "execution": {
          "iopub.status.busy": "2024-01-07T17:47:21.760275Z",
          "iopub.execute_input": "2024-01-07T17:47:21.760782Z",
          "iopub.status.idle": "2024-01-07T17:47:21.766103Z",
          "shell.execute_reply.started": "2024-01-07T17:47:21.760753Z",
          "shell.execute_reply": "2024-01-07T17:47:21.765Z"
        },
        "trusted": true,
        "id": "Ay6E5LMRfS8A"
      },
      "execution_count": null,
      "outputs": []
    },
    {
      "cell_type": "markdown",
      "source": [
        "**Target variable is earnings while age, expenditure and education are independent variables.**"
      ],
      "metadata": {
        "id": "BEtIwZlbfS8A"
      }
    },
    {
      "cell_type": "code",
      "source": [
        "X.head()"
      ],
      "metadata": {
        "execution": {
          "iopub.status.busy": "2024-01-07T17:47:26.170481Z",
          "iopub.execute_input": "2024-01-07T17:47:26.170858Z",
          "iopub.status.idle": "2024-01-07T17:47:26.180477Z",
          "shell.execute_reply.started": "2024-01-07T17:47:26.170827Z",
          "shell.execute_reply": "2024-01-07T17:47:26.17973Z"
        },
        "trusted": true,
        "id": "-STvk0KLfS8A"
      },
      "execution_count": null,
      "outputs": []
    },
    {
      "cell_type": "code",
      "source": [
        "y=data2['Earnings']"
      ],
      "metadata": {
        "execution": {
          "iopub.status.busy": "2024-01-07T17:47:30.284045Z",
          "iopub.execute_input": "2024-01-07T17:47:30.28439Z",
          "iopub.status.idle": "2024-01-07T17:47:30.289067Z",
          "shell.execute_reply.started": "2024-01-07T17:47:30.284362Z",
          "shell.execute_reply": "2024-01-07T17:47:30.288306Z"
        },
        "trusted": true,
        "id": "EExVHaDAfS8A"
      },
      "execution_count": null,
      "outputs": []
    },
    {
      "cell_type": "code",
      "source": [
        "y.head()"
      ],
      "metadata": {
        "execution": {
          "iopub.status.busy": "2024-01-07T17:47:35.375111Z",
          "iopub.execute_input": "2024-01-07T17:47:35.375493Z",
          "iopub.status.idle": "2024-01-07T17:47:35.382993Z",
          "shell.execute_reply.started": "2024-01-07T17:47:35.375459Z",
          "shell.execute_reply": "2024-01-07T17:47:35.381765Z"
        },
        "trusted": true,
        "id": "7riOcRLGfS8B"
      },
      "execution_count": null,
      "outputs": []
    },
    {
      "cell_type": "code",
      "source": [
        "X.reset_index()\n",
        "y.reset_index()"
      ],
      "metadata": {
        "execution": {
          "iopub.status.busy": "2024-01-07T17:47:39.480179Z",
          "iopub.execute_input": "2024-01-07T17:47:39.480526Z",
          "iopub.status.idle": "2024-01-07T17:47:39.496216Z",
          "shell.execute_reply.started": "2024-01-07T17:47:39.480493Z",
          "shell.execute_reply": "2024-01-07T17:47:39.495051Z"
        },
        "trusted": true,
        "id": "6FGjLsggfS8B"
      },
      "execution_count": null,
      "outputs": []
    },
    {
      "cell_type": "code",
      "source": [
        "from sklearn.model_selection import train_test_split\n",
        "X_train,X_test,y_train,y_test=train_test_split(X,y,test_size=0.2)"
      ],
      "metadata": {
        "execution": {
          "iopub.status.busy": "2024-01-07T17:47:43.242336Z",
          "iopub.execute_input": "2024-01-07T17:47:43.242714Z",
          "iopub.status.idle": "2024-01-07T17:47:43.329064Z",
          "shell.execute_reply.started": "2024-01-07T17:47:43.242683Z",
          "shell.execute_reply": "2024-01-07T17:47:43.328119Z"
        },
        "trusted": true,
        "id": "5y5tLQ_8fS8C"
      },
      "execution_count": null,
      "outputs": []
    },
    {
      "cell_type": "code",
      "source": [
        "from sklearn.linear_model import LinearRegression"
      ],
      "metadata": {
        "execution": {
          "iopub.status.busy": "2024-01-07T17:47:47.180053Z",
          "iopub.execute_input": "2024-01-07T17:47:47.180411Z",
          "iopub.status.idle": "2024-01-07T17:47:47.251911Z",
          "shell.execute_reply.started": "2024-01-07T17:47:47.180382Z",
          "shell.execute_reply": "2024-01-07T17:47:47.250909Z"
        },
        "trusted": true,
        "id": "IWJm3v82fS8C"
      },
      "execution_count": null,
      "outputs": []
    },
    {
      "cell_type": "code",
      "source": [
        "from sklearn.preprocessing import OneHotEncoder\n",
        "from sklearn.compose import make_column_transformer\n",
        "from sklearn.pipeline import make_pipeline\n",
        "from sklearn.metrics import r2_score\n"
      ],
      "metadata": {
        "execution": {
          "iopub.status.busy": "2024-01-07T17:47:52.109901Z",
          "iopub.execute_input": "2024-01-07T17:47:52.110299Z",
          "iopub.status.idle": "2024-01-07T17:47:52.130123Z",
          "shell.execute_reply.started": "2024-01-07T17:47:52.110268Z",
          "shell.execute_reply": "2024-01-07T17:47:52.129167Z"
        },
        "trusted": true,
        "id": "QtvRZeTVfS8C"
      },
      "execution_count": null,
      "outputs": []
    },
    {
      "cell_type": "markdown",
      "source": [
        "# One_Hot_Encoder"
      ],
      "metadata": {
        "id": "l7gK4yoFfS8C"
      }
    },
    {
      "cell_type": "code",
      "source": [
        "ohe=OneHotEncoder(handle_unknown= \"ignore\")\n",
        "\n",
        "ohe.fit_transform(X[[\"Education\"]])"
      ],
      "metadata": {
        "execution": {
          "iopub.status.busy": "2024-01-07T17:47:56.409652Z",
          "iopub.execute_input": "2024-01-07T17:47:56.40998Z",
          "iopub.status.idle": "2024-01-07T17:47:56.419069Z",
          "shell.execute_reply.started": "2024-01-07T17:47:56.409953Z",
          "shell.execute_reply": "2024-01-07T17:47:56.417831Z"
        },
        "trusted": true,
        "id": "DDfoND-UfS8C"
      },
      "execution_count": null,
      "outputs": []
    },
    {
      "cell_type": "code",
      "source": [
        "ohe.categories_"
      ],
      "metadata": {
        "execution": {
          "iopub.status.busy": "2024-01-07T17:48:00.204059Z",
          "iopub.execute_input": "2024-01-07T17:48:00.204395Z",
          "iopub.status.idle": "2024-01-07T17:48:00.211088Z",
          "shell.execute_reply.started": "2024-01-07T17:48:00.204366Z",
          "shell.execute_reply": "2024-01-07T17:48:00.210069Z"
        },
        "trusted": true,
        "id": "ZCeOH9I-fS8C"
      },
      "execution_count": null,
      "outputs": []
    },
    {
      "cell_type": "code",
      "source": [
        "column_trans=make_column_transformer((OneHotEncoder(categories=ohe.categories_),[\"Education\"]),\n",
        "                                    remainder='passthrough')"
      ],
      "metadata": {
        "execution": {
          "iopub.status.busy": "2024-01-07T17:48:02.911805Z",
          "iopub.execute_input": "2024-01-07T17:48:02.912135Z",
          "iopub.status.idle": "2024-01-07T17:48:02.917802Z",
          "shell.execute_reply.started": "2024-01-07T17:48:02.91211Z",
          "shell.execute_reply": "2024-01-07T17:48:02.916369Z"
        },
        "trusted": true,
        "id": "6oLteB6sfS8C"
      },
      "execution_count": null,
      "outputs": []
    },
    {
      "cell_type": "code",
      "source": [
        "column_trans.fit_transform(X)"
      ],
      "metadata": {
        "execution": {
          "iopub.status.busy": "2024-01-07T17:48:06.71614Z",
          "iopub.execute_input": "2024-01-07T17:48:06.716492Z",
          "iopub.status.idle": "2024-01-07T17:48:06.729681Z",
          "shell.execute_reply.started": "2024-01-07T17:48:06.716461Z",
          "shell.execute_reply": "2024-01-07T17:48:06.728644Z"
        },
        "trusted": true,
        "id": "oLugrJDkfS8C"
      },
      "execution_count": null,
      "outputs": []
    },
    {
      "cell_type": "code",
      "source": [
        "lr=LinearRegression()"
      ],
      "metadata": {
        "execution": {
          "iopub.status.busy": "2024-01-07T17:48:10.671311Z",
          "iopub.execute_input": "2024-01-07T17:48:10.67169Z",
          "iopub.status.idle": "2024-01-07T17:48:10.676252Z",
          "shell.execute_reply.started": "2024-01-07T17:48:10.671658Z",
          "shell.execute_reply": "2024-01-07T17:48:10.674905Z"
        },
        "trusted": true,
        "id": "wvFjXNfJfS8C"
      },
      "execution_count": null,
      "outputs": []
    },
    {
      "cell_type": "code",
      "source": [
        "pipe=make_pipeline(column_trans,lr)"
      ],
      "metadata": {
        "execution": {
          "iopub.status.busy": "2024-01-07T17:48:13.035491Z",
          "iopub.execute_input": "2024-01-07T17:48:13.035842Z",
          "iopub.status.idle": "2024-01-07T17:48:13.040775Z",
          "shell.execute_reply.started": "2024-01-07T17:48:13.035813Z",
          "shell.execute_reply": "2024-01-07T17:48:13.039637Z"
        },
        "trusted": true,
        "id": "bxKJho42fS8C"
      },
      "execution_count": null,
      "outputs": []
    },
    {
      "cell_type": "code",
      "source": [
        "pipe.fit(X_train,y_train)"
      ],
      "metadata": {
        "execution": {
          "iopub.status.busy": "2024-01-07T17:48:15.769965Z",
          "iopub.execute_input": "2024-01-07T17:48:15.770275Z",
          "iopub.status.idle": "2024-01-07T17:48:15.801772Z",
          "shell.execute_reply.started": "2024-01-07T17:48:15.770249Z",
          "shell.execute_reply": "2024-01-07T17:48:15.801033Z"
        },
        "trusted": true,
        "id": "v2cRMlqgfS8C"
      },
      "execution_count": null,
      "outputs": []
    },
    {
      "cell_type": "code",
      "source": [
        "y_pred= pipe.predict(X_test)"
      ],
      "metadata": {
        "execution": {
          "iopub.status.busy": "2024-01-07T17:48:20.020489Z",
          "iopub.execute_input": "2024-01-07T17:48:20.020858Z",
          "iopub.status.idle": "2024-01-07T17:48:20.029747Z",
          "shell.execute_reply.started": "2024-01-07T17:48:20.020826Z",
          "shell.execute_reply": "2024-01-07T17:48:20.02857Z"
        },
        "trusted": true,
        "id": "HtamlwMefS8C"
      },
      "execution_count": null,
      "outputs": []
    },
    {
      "cell_type": "markdown",
      "source": [
        "# R-squared scores"
      ],
      "metadata": {
        "id": "RYXNk2bPfS8C"
      }
    },
    {
      "cell_type": "code",
      "source": [
        "r2_score(y_test,y_pred)"
      ],
      "metadata": {
        "execution": {
          "iopub.status.busy": "2024-01-07T17:48:25.6684Z",
          "iopub.execute_input": "2024-01-07T17:48:25.66876Z",
          "iopub.status.idle": "2024-01-07T17:48:25.675056Z",
          "shell.execute_reply.started": "2024-01-07T17:48:25.668731Z",
          "shell.execute_reply": "2024-01-07T17:48:25.674079Z"
        },
        "trusted": true,
        "id": "0_zwqTdHfS8C"
      },
      "execution_count": null,
      "outputs": []
    },
    {
      "cell_type": "code",
      "source": [
        "scores=[]\n",
        "for i in range(1000):\n",
        "    X_train,X_test,y_train,y_test=train_test_split(X,y,test_size=0.2,random_state=i)\n",
        "    lr=LinearRegression()\n",
        "    pipe=make_pipeline(column_trans,lr)\n",
        "    pipe.fit(X_train,y_train)\n",
        "    y_pred=pipe.predict(X_test)\n",
        "    scores.append(r2_score(y_test,y_pred))"
      ],
      "metadata": {
        "execution": {
          "iopub.status.busy": "2024-01-07T17:48:29.303057Z",
          "iopub.execute_input": "2024-01-07T17:48:29.303433Z",
          "iopub.status.idle": "2024-01-07T17:48:35.693769Z",
          "shell.execute_reply.started": "2024-01-07T17:48:29.3034Z",
          "shell.execute_reply": "2024-01-07T17:48:35.6928Z"
        },
        "trusted": true,
        "id": "OHUrT0PNfS8C"
      },
      "execution_count": null,
      "outputs": []
    },
    {
      "cell_type": "code",
      "source": [
        "np.argmax(scores)"
      ],
      "metadata": {
        "execution": {
          "iopub.status.busy": "2024-01-07T17:48:41.510546Z",
          "iopub.execute_input": "2024-01-07T17:48:41.510959Z",
          "iopub.status.idle": "2024-01-07T17:48:41.517345Z",
          "shell.execute_reply.started": "2024-01-07T17:48:41.51093Z",
          "shell.execute_reply": "2024-01-07T17:48:41.516516Z"
        },
        "trusted": true,
        "id": "73lgxuX5fS8C"
      },
      "execution_count": null,
      "outputs": []
    },
    {
      "cell_type": "code",
      "source": [
        "scores[np.argmax(scores)]"
      ],
      "metadata": {
        "execution": {
          "iopub.status.busy": "2024-01-07T17:48:44.898362Z",
          "iopub.execute_input": "2024-01-07T17:48:44.898723Z",
          "iopub.status.idle": "2024-01-07T17:48:44.905272Z",
          "shell.execute_reply.started": "2024-01-07T17:48:44.898694Z",
          "shell.execute_reply": "2024-01-07T17:48:44.904298Z"
        },
        "trusted": true,
        "id": "mlw65EXffS8D"
      },
      "execution_count": null,
      "outputs": []
    },
    {
      "cell_type": "code",
      "source": [
        "X_train,X_test,y_train,y_test=train_test_split(X,y,test_size=0.2,random_state=np.argmax(scores))\n",
        "lr=LinearRegression()\n",
        "pipe=make_pipeline(column_trans,lr)\n",
        "pipe.fit(X_train,y_train)\n",
        "y_pred=pipe.predict(X_test)\n",
        "r2_score(y_test,y_pred)"
      ],
      "metadata": {
        "execution": {
          "iopub.status.busy": "2024-01-07T17:48:47.597514Z",
          "iopub.execute_input": "2024-01-07T17:48:47.597882Z",
          "iopub.status.idle": "2024-01-07T17:48:47.615816Z",
          "shell.execute_reply.started": "2024-01-07T17:48:47.597852Z",
          "shell.execute_reply": "2024-01-07T17:48:47.614637Z"
        },
        "trusted": true,
        "id": "G3SGRAP2fS8D"
      },
      "execution_count": null,
      "outputs": []
    },
    {
      "cell_type": "markdown",
      "source": [
        "# Scattar Plot"
      ],
      "metadata": {
        "id": "SKsUnNndfS8D"
      }
    },
    {
      "cell_type": "code",
      "source": [
        "import matplotlib.pyplot as plt"
      ],
      "metadata": {
        "execution": {
          "iopub.status.busy": "2024-01-07T17:48:56.332391Z",
          "iopub.execute_input": "2024-01-07T17:48:56.332807Z",
          "iopub.status.idle": "2024-01-07T17:48:56.3377Z",
          "shell.execute_reply.started": "2024-01-07T17:48:56.332774Z",
          "shell.execute_reply": "2024-01-07T17:48:56.336653Z"
        },
        "trusted": true,
        "id": "_gkHw-mSfS8D"
      },
      "execution_count": null,
      "outputs": []
    },
    {
      "cell_type": "code",
      "source": [
        "fig, ax = plt.subplots()\n",
        "ax.scatter(y_test, y_pred)\n",
        "ax.plot([y.min(), y.max()], [y.min(), y.max()], 'k--', lw=4)\n",
        "ax.set_xlabel('Actual')\n",
        "ax.set_ylabel('Predicted')\n",
        "\n",
        "y_test, y_pred = y_test.values.reshape(-1,1), y_pred.reshape(-1,1)\n",
        "ax.plot(y_test, LinearRegression().fit(y_test, y_pred).predict(y_test))\n",
        "resolution_value = 300\n",
        "plt.savefig(\"myImage.pdf\", format=\"pdf\", dpi=resolution_value)\n",
        "plt.show()\n"
      ],
      "metadata": {
        "execution": {
          "iopub.status.busy": "2024-01-07T17:48:59.866671Z",
          "iopub.execute_input": "2024-01-07T17:48:59.867039Z",
          "iopub.status.idle": "2024-01-07T17:49:00.376421Z",
          "shell.execute_reply.started": "2024-01-07T17:48:59.867009Z",
          "shell.execute_reply": "2024-01-07T17:49:00.37542Z"
        },
        "trusted": true,
        "id": "k_W1saFhfS8D"
      },
      "execution_count": null,
      "outputs": []
    }
  ]
}